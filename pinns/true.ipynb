{
 "cells": [
  {
   "cell_type": "code",
   "execution_count": 1,
   "metadata": {},
   "outputs": [],
   "source": [
    "import numpy as np\n",
    "import matplotlib.pyplot as plt\n",
    "file1 = '../data/final project_data reference/[lid_driven_cavity]_[Re=9000]_[0,50,0.1]_u.txt'\n",
    "file2 = '../data/final project_data reference/[lid_driven_cavity]_[Re=9000]_[0,50,0.1]_v.txt'\n",
    "file3 = '../data/final project_data reference/[lid_driven_cavity]_[Re=9000]_[0,50,0.1]_p.txt'\n",
    "x = []\n",
    "y = []\n",
    "u, v, p = [], [], []\n",
    "with open(file1, 'r') as f:\n",
    "    data = f.readlines()\n",
    "    for i in range(9, len(data)):\n",
    "        _d = np.array(data[i].split(',')).astype(float)\n",
    "        x.append(_d[0])\n",
    "        y.append(_d[1])\n",
    "        u.append(_d[2:])\n",
    "\n",
    "with open(file2, 'r') as f:\n",
    "    data = f.readlines()\n",
    "    for i in range(9, len(data)):\n",
    "        _d = np.array(data[i].split(',')).astype(float)\n",
    "        v.append(_d[2:])\n",
    "\n",
    "with open(file3, 'r') as f:\n",
    "    data = f.readlines()\n",
    "    for i in range(9, len(data)):\n",
    "        _d = np.array(data[i].split(',')).astype(float)\n",
    "        p.append(_d[2:])\n",
    "x = np.array(x).astype(float)\n",
    "y = np.array(y).astype(float)\n",
    "u = np.array(u).astype(float)\n",
    "v = np.array(v).astype(float)\n",
    "p = np.array(p).astype(float)"
   ]
  },
  {
   "cell_type": "code",
   "execution_count": 2,
   "metadata": {},
   "outputs": [
    {
     "data": {
      "text/plain": [
       "((10201,), (10201,), (10201, 501), (10201, 501), (10201, 501))"
      ]
     },
     "execution_count": 2,
     "metadata": {},
     "output_type": "execute_result"
    }
   ],
   "source": [
    "x.shape, y.shape, u.shape, v.shape, p.shape"
   ]
  },
  {
   "cell_type": "code",
   "execution_count": 10,
   "metadata": {},
   "outputs": [
    {
     "name": "stdout",
     "output_type": "stream",
     "text": [
      "(10201,) (10201,) (10201, 501)\n"
     ]
    },
    {
     "data": {
      "image/png": "[encoded data removed]",
      "text/plain": [
       "<Figure size 640x480 with 1 Axes>"
      ]
     },
     "metadata": {},
     "output_type": "display_data"
    }
   ],
   "source": [
    "X, Y = np.meshgrid(x, y)\n",
    "from scipy.interpolate import griddata\n",
    "from IPython.display import clear_output\n",
    "from matplotlib import animation\n",
    "# fig, axs = plt.subplots(1, 3, figsize=(7.5, 6), sharey=False)\n",
    "\n",
    "\n",
    "N_resolution = 40\n",
    "### Plot u ###\n",
    "# cp_u = axs[0, 0].contourf(X, Y, u, N_resolution)\n",
    "print(x.shape, y.shape, u.shape)\n",
    "\n",
    "xi=np.linspace(min(x),max(x))\n",
    "yi=np.linspace(min(y),max(y))\n",
    "xi,yi=np.meshgrid(xi,yi)\n",
    "\n",
    "t = 501\n",
    "# for i in range(t):\n",
    "fig, ax = plt.subplots()\n",
    "artists = []\n",
    "for i in range(501):\n",
    "    z = u[:,i]\n",
    "    zi=griddata((x, y),z,(xi,yi),method='cubic')\n",
    "    surf = ax.contourf(xi,yi,zi,N_resolution)\n",
    "    surf.set_cmap('jet')\n",
    "    # fig.colorbar(surf)\n",
    "    artists.append(surf)\n",
    "\n",
    "ani = animation.ArtistAnimation(fig=fig, artists=artists, interval=400)\n",
    "plt.show()\n",
    "    # clear_output(wait=True)\n",
    "    # ax.clear()\n",
    "    # plt.pause(0.0001)÷\n",
    "# import matplotlib\n",
    "# matplotlib.animation.Animation.save(fig, \"test.gif\")\n",
    "    # plt.clf()"
   ]
  },
  {
   "cell_type": "code",
   "execution_count": null,
   "metadata": {},
   "outputs": [],
   "source": []
  }
 ],
 "metadata": {
  "kernelspec": {
   "display_name": "base",
   "language": "python",
   "name": "python3"
  },
  "language_info": {
   "codemirror_mode": {
    "name": "ipython",
    "version": 3
   },
   "file_extension": ".py",
   "mimetype": "text/x-python",
   "name": "python",
   "nbconvert_exporter": "python",
   "pygments_lexer": "ipython3",
   "version": "3.12.2"
  }
 },
 "nbformat": 4,
 "nbformat_minor": 2
}

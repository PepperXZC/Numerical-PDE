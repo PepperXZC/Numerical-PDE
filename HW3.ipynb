{
 "cells": [
  {
   "cell_type": "markdown",
   "metadata": {},
   "source": [
    "# HW3"
   ]
  },
  {
   "cell_type": "markdown",
   "metadata": {},
   "source": [
    "Consider:\n",
    "$$\n",
    "(u_{xx}+u_{yy}) = 0~~for~~0\\leq x,~ y\\leq 2\\pi\n",
    "$$\n",
    "With the following boundary condition\n",
    "$$\n",
    "\\begin{align}\n",
    "& u(0,y)=0\\\\\n",
    "& u(2\\pi,y)=0\\\\\n",
    "& u(x,0)=\\sin(2x)+\\sin(5x)+\\sin(7x)\\\\\n",
    "& u(x,2\\pi)=0\n",
    "\\end{align}\n",
    "$$\n",
    "For the general Laplacian problem (2D):\n",
    "$$\n",
    "\\Delta u = f\n",
    "$$\n",
    "Its finite difference form:\n",
    "$$\n",
    "\\frac{u_{i+1,j}-2u_{i,j}+u_{i-1,j}}{\\Delta x^2}+\\frac{u_{i,j+1}-2u_{i,j}+u_{i,j-1}}{\\Delta y^2} = f_{i,j}\n",
    "$$\n",
    "Jacobi iterative sheme:\n",
    "$$\n",
    "u_{i,j}^{n+1}=\\frac{1}{4}[u_{i+1,j}^{n}+u_{i-1,j}^{n}+u_{i,j+1}^{n}+u_{i,j-1}^{n}-h^2f_{i,j}]\n",
    "$$\n",
    "Gauss-Seidel iterative scheme:\n",
    "$$\n",
    "u_{i,j}^{n+1}=\\frac{1}{4}[u_{i+1,j}^{n}+u_{i-1,j}^{n+1}+u_{i,j+1}^{n}+u_{i,j-1}^{n+1}-h^2f_{i,j}]\n",
    "$$\n"
   ]
  },
  {
   "cell_type": "code",
   "execution_count": 2,
   "metadata": {},
   "outputs": [],
   "source": [
    "import numpy as np"
   ]
  },
  {
   "cell_type": "code",
   "execution_count": 5,
   "metadata": {},
   "outputs": [
    {
     "data": {
      "text/plain": [
       "(6.283185307179586, 6.283185307179586)"
      ]
     },
     "execution_count": 5,
     "metadata": {},
     "output_type": "execute_result"
    }
   ],
   "source": [
    "dx = 2*np.pi/20\n",
    "dy = 2*np.pi/20\n",
    "x = np.arange(0, 2*np.pi+dx, dx)\n",
    "y = np.arange(0, 2*np.pi+dy, dy)\n",
    "x.max(), y.max()"
   ]
  },
  {
   "cell_type": "code",
   "execution_count": 6,
   "metadata": {},
   "outputs": [],
   "source": [
    "mesh = np.zeros((len(x), len(y)))\n",
    "# B.C.\n",
    "mesh[0] = 0\n",
    "mesh[-1] = 0\n",
    "mesh[:,0] = np.sin(2*x)+np.sin(5*x)+np.sin(7*x)\n",
    "mesh[:,-1] = 0"
   ]
  },
  {
   "cell_type": "code",
   "execution_count": null,
   "metadata": {},
   "outputs": [],
   "source": [
    "# Jacobi\n",
    "for _ in range(1000):\n",
    "    mesh[1:-1,1:-1] = 0.25*(mesh[:-2,1:-1]+mesh[2:,1:-1]+mesh[1:-1,:-2]+mesh[1:-1,2:])\n",
    "\n",
    "# Gauss-Seidel\n",
    "for _ in range(1000):\n",
    "    for i in range(1, len(x)-1):\n",
    "        for j in range(1, len(y)-1):\n",
    "            mesh[i,j] = 0.25*(mesh[i-1,j]+mesh[i+1,j]+mesh[i,j-1]+mesh[i,j+1])\n",
    "\n",
    "# SOR\n",
    "omega = 1.5\n",
    "for _ in range(1000):\n",
    "    for i in range(1, len(x)-1):\n",
    "        for j in range(1, len(y)-1):\n",
    "            mesh[i,j] = (1-omega)*mesh[i,j]+omega*0.25*(mesh[i-1,j]+mesh[i+1,j]+mesh[i,j-1]+mesh[i,j+1])\n",
    "\n",
    "import matplotlib.pyplot as plt\n",
    "plt.imshow(mesh)\n",
    "plt.colorbar()\n",
    "plt.show()"
   ]
  },
  {
   "cell_type": "markdown",
   "metadata": {},
   "source": []
  }
 ],
 "metadata": {
  "kernelspec": {
   "display_name": "Python 3",
   "language": "python",
   "name": "python3"
  },
  "language_info": {
   "codemirror_mode": {
    "name": "ipython",
    "version": 3
   },
   "file_extension": ".py",
   "mimetype": "text/x-python",
   "name": "python",
   "nbconvert_exporter": "python",
   "pygments_lexer": "ipython3",
   "version": "3.10.14"
  }
 },
 "nbformat": 4,
 "nbformat_minor": 2
}

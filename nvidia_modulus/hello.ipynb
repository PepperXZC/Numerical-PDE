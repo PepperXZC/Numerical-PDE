{
 "cells": [
  {
   "cell_type": "code",
   "execution_count": 26,
   "metadata": {},
   "outputs": [],
   "source": [
    "from sympy import Symbol, Eq, Abs\n",
    "\n",
    "import modulus\n",
    "import modulus.sym\n",
    "from modulus.sym.hydra import to_absolute_path, instantiate_arch, ModulusConfig\n",
    "from modulus.sym.solver import Solver\n",
    "from modulus.sym.domain import Domain\n",
    "from modulus.sym.geometry.primitives_2d import Rectangle\n",
    "from modulus.sym.domain.constraint import (\n",
    "    PointwiseBoundaryConstraint,\n",
    "    PointwiseInteriorConstraint,\n",
    ")\n",
    "from modulus.sym.domain.validator import PointwiseValidator\n",
    "from modulus.sym.domain.inferencer import PointwiseInferencer\n",
    "from modulus.sym.key import Key\n",
    "from modulus.sym.eq.pdes.navier_stokes import NavierStokes\n",
    "from modulus.sym.utils.io import (\n",
    "    csv_to_dict,\n",
    "    ValidatorPlotter,\n",
    "    InferencerPlotter,\n",
    ")"
   ]
  },
  {
   "cell_type": "code",
   "execution_count": 27,
   "metadata": {},
   "outputs": [
    {
     "name": "stderr",
     "output_type": "stream",
     "text": [
      "usage: ipykernel_launcher.py [--help] [--hydra-help] [--version]\n",
      "                             [--cfg {job,hydra,all}] [--resolve]\n",
      "                             [--package PACKAGE] [--run] [--multirun]\n",
      "                             [--shell-completion] [--config-path CONFIG_PATH]\n",
      "                             [--config-name CONFIG_NAME]\n",
      "                             [--config-dir CONFIG_DIR]\n",
      "                             [--experimental-rerun EXPERIMENTAL_RERUN]\n",
      "                             [--info [{all,config,defaults,defaults-tree,plugins,searchpath}]]\n",
      "                             [overrides ...]\n",
      "ipykernel_launcher.py: error: unrecognized arguments: --f=/home/xzc/.local/share/jupyter/runtime/kernel-v2-322950x3NS2LxapUs7.json\n"
     ]
    },
    {
     "ename": "SystemExit",
     "evalue": "2",
     "output_type": "error",
     "traceback": [
      "An exception has occurred, use %tb to see the full traceback.\n",
      "\u001b[0;31mSystemExit\u001b[0m\u001b[0;31m:\u001b[0m 2\n"
     ]
    },
    {
     "name": "stderr",
     "output_type": "stream",
     "text": [
      "/home/xzc/miniconda3/envs/xcode/lib/python3.10/site-packages/IPython/core/interactiveshell.py:3585: UserWarning: To exit: use 'exit', 'quit', or Ctrl-D.\n",
      "  warn(\"To exit: use 'exit', 'quit', or Ctrl-D.\", stacklevel=1)\n"
     ]
    }
   ],
   "source": [
    "# make list of nodes to unroll graph on\n",
    "ns = NavierStokes(nu=0.01, rho=1.0, dim=2, time=False)\n",
    "\n",
    "from modulus.sym.hydra import to_yaml\n",
    "from modulus.sym.hydra.config import ModulusConfig\n",
    "\n",
    "@modulus.sym.main(config_path=\"conf\", config_name=\"config\")\n",
    "def run_config(cfg: ModulusConfig) -> None:\n",
    "    print(to_yaml(cfg))\n",
    "    return cfg\n",
    "\n",
    "cfg = run_config()\n",
    "flow_net = instantiate_arch(\n",
    "    input_keys=[Key(\"x\"), Key(\"y\")],\n",
    "    output_keys=[Key(\"u\"), Key(\"v\"), Key(\"p\")],\n",
    "    cfg=cfg.arch.fully_connected,\n",
    ")\n",
    "nodes = ns.make_nodes() + [flow_net.make_node(name=\"flow_network\")]"
   ]
  },
  {
   "cell_type": "code",
   "execution_count": 38,
   "metadata": {},
   "outputs": [
    {
     "data": {
      "text/plain": [
       "dict_keys(['x', 'y', 'true_u', 'true_v', 'pred_u', 'pred_v'])"
      ]
     },
     "execution_count": 38,
     "metadata": {},
     "output_type": "execute_result"
    }
   ],
   "source": [
    "import matplotlib.pyplot as plt\n",
    "import numpy as np\n",
    "data = np.load('outputs/hello_4k/validators/validator.npz', allow_pickle=True)\n",
    "data = np.atleast_1d(data.f.arr_0)[0]\n",
    "data.keys()"
   ]
  },
  {
   "cell_type": "code",
   "execution_count": 41,
   "metadata": {},
   "outputs": [
    {
     "data": {
      "text/plain": [
       "((128540, 1), (128540, 1))"
      ]
     },
     "execution_count": 41,
     "metadata": {},
     "output_type": "execute_result"
    }
   ],
   "source": [
    "data['x'].shape, data['pred_u'].shape"
   ]
  },
  {
   "cell_type": "code",
   "execution_count": 48,
   "metadata": {},
   "outputs": [
    {
     "data": {
      "image/png": "[encoded data removed]",
      "text/plain": [
       "<Figure size 1500x300 with 4 Axes>"
      ]
     },
     "metadata": {},
     "output_type": "display_data"
    }
   ],
   "source": [
    "# plt.imshow()\n",
    "# X, Y = np.meshgrid(data['x'].flatten(), data['y'].flatten())\n",
    "# data['pred_u'].shape\n",
    "fig, axs = plt.subplots(1, 3, figsize=(15, 3))\n",
    "cp_u = axs[0].tricontourf(data['x'].flatten(), data['y'].flatten(), data['pred_u'].flatten(), levels=14)\n",
    "fig.colorbar(cp_u) \n",
    "cp_u.set_cmap('jet')\n",
    "cp_v = axs[0].tricontourf(data['x'].flatten(), data['y'].flatten(), data['pred_v'].flatten(), levels=14)\n",
    "fig.colorbar(cp_v) \n",
    "cp_v.set_cmap('jet')\n",
    "X, Y = np.meshgrid(data['x'].flatten(), data['y'].flatten())\n",
    "u = data['u']\n",
    "v = data['v']\n",
    "cp = axs[0].streamplot(X, Y, u, v, linewidth=2, cmap='autumn')\n",
    "fig.colorbar(cp) \n",
    "cp.lines.set_cmap('jet')"
   ]
  },
  {
   "cell_type": "code",
   "execution_count": null,
   "metadata": {},
   "outputs": [],
   "source": [
    "fig, axs = plt.subplots(2, 2, figsize=(7.5, 6), sharey=False)\n",
    "\n",
    "xlist = np.linspace(0., 1., N_plt)\n",
    "ylist = np.linspace(0., 1., N_plt)\n",
    "X, Y = np.meshgrid(xlist, ylist)\n",
    "T = np.array([start_t] * X.size)\n",
    "u, v, p = find_uvp(T, X, Y, N_plt)\n",
    "\n",
    "N_resolution = 40\n",
    "### Plot u ###\n",
    "cp_u = axs[0, 0].contourf(X, Y, u, N_resolution)\n",
    "fig.colorbar(cp_u) \n",
    "cp_u.set_cmap('jet')\n",
    "axs[0, 0].set_title('Contours of $u$')\n",
    "axs[0, 0].set_xlabel('$x$')\n",
    "axs[0, 0].set_ylabel('$y$')\n",
    "\n",
    "### Plot v ###\n",
    "cp_v = axs[0, 1].contourf(X, Y, v, N_resolution)\n",
    "fig.colorbar(cp_v) \n",
    "cp_v.set_cmap('jet')\n",
    "axs[0, 1].set_title('Contours of $v$')\n",
    "axs[0, 1].set_xlabel('$x$')\n",
    "axs[0, 1].set_ylabel('$y$')\n",
    "\n",
    "### Plot velocity field ###\n",
    "strm = axs[1, 0].streamplot(X, Y, u, v, color=v, density=1.5, linewidth=1)\n",
    "fig.colorbar(strm.lines)\n",
    "strm.lines.set_cmap('jet')\n",
    "axs[1, 0].set_title('Velocity stream traces' )\n",
    "axs[1, 0].set_xlabel('$x$')\n",
    "axs[1, 0].set_ylabel('$y$')\n",
    "\n",
    "### Plot p ###\n",
    "cp_p = axs[1, 1].contourf(X, Y, p, N_resolution)\n",
    "fig.colorbar(cp_p) \n",
    "cp_p.set_cmap('jet')\n",
    "axs[1, 1].set_title('Contours of $p$')\n",
    "axs[1, 1].set_xlabel('$x$')\n",
    "axs[1, 1].set_ylabel('$y$')\n",
    "\n",
    "fig.tight_layout(pad=1.0)"
   ]
  }
 ],
 "metadata": {
  "kernelspec": {
   "display_name": "xcode",
   "language": "python",
   "name": "python3"
  },
  "language_info": {
   "codemirror_mode": {
    "name": "ipython",
    "version": 3
   },
   "file_extension": ".py",
   "mimetype": "text/x-python",
   "name": "python",
   "nbconvert_exporter": "python",
   "pygments_lexer": "ipython3",
   "version": "3.10.14"
  }
 },
 "nbformat": 4,
 "nbformat_minor": 2
}
